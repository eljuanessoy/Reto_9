{
  "nbformat": 4,
  "nbformat_minor": 0,
  "metadata": {
    "colab": {
      "provenance": [],
      "authorship_tag": "ABX9TyMnCROdlwO0QKOeY5wgBMT9",
      "include_colab_link": true
    },
    "kernelspec": {
      "name": "python3",
      "display_name": "Python 3"
    },
    "language_info": {
      "name": "python"
    }
  },
  "cells": [
    {
      "cell_type": "markdown",
      "metadata": {
        "id": "view-in-github",
        "colab_type": "text"
      },
      "source": [
        "<a href=\"https://colab.research.google.com/github/eljuanessoy/Reto_9/blob/main/Reto_9.ipynb\" target=\"_parent\"><img src=\"https://colab.research.google.com/assets/colab-badge.svg\" alt=\"Open In Colab\"/></a>"
      ]
    },
    {
      "cell_type": "markdown",
      "source": [
        "PUNTO 1"
      ],
      "metadata": {
        "id": "a0vhDnxQh7Ia"
      }
    },
    {
      "cell_type": "code",
      "execution_count": null,
      "metadata": {
        "id": "nLXGTZs_dsII"
      },
      "outputs": [],
      "source": [
        "# Mi mamá me manda a comprar P panes a 300 cada uno, M bolsas de leche a 3300 cada una y H huevos a 350 cada uno. Hacer un programa que me diga las vueltas (o lo que quedo debiendo) cuando me da un billete de B pesos.\n",
        "if __name__ == \"__main__\":\n",
        "  p = int(input(\"Ingrese la cantidad de panes: \"))\n",
        "  l = int(input(\"Ingrese la cantidad de bolsas de leche: \"))\n",
        "  h = int(input(\"Ingrese la cantidad de huevos: \"))\n",
        "  B = int(input(\"Ingrese el valor del billete con el que va a pagar: \"))\n",
        "  LasVueltas= (lambda a,b,c,d: d - ((300 * a) + (3300 * b) + (350 * c)))(p,l,h,B)\n",
        "\n",
        "  print()\n",
        "  if LasVueltas>0:\n",
        "    print(\"El vendedor me debe dar $\" + str(LasVueltas))\n",
        "  if LasVueltas<0:\n",
        "    print(\"Le debo al vendedor $\" + str(LasVueltas))\n",
        "  elif LasVueltas == 0:\n",
        "    print(\"No debo ni me deben nada\")"
      ]
    },
    {
      "cell_type": "code",
      "source": [
        "# Haga un programa que utilice una función para calcular el valor de un préstamo C usando interés compuesto del i por n meses.\n",
        "if __name__ == \"__main__\":\n",
        "  c = float(input(\"Ingrese el valor del prestamo: \"))\n",
        "  i = float(input(\"Ingrese el interés al año: \"))\n",
        "  n = float(input(\"Ingrese la cantidad de meses: \"))\n",
        "  IC = (lambda c, i, n: c*((1+(i/12))**n))(c,i,n)\n",
        "\n",
        "  print()\n",
        "  print(\"El interés compuesto es del prestamo es \" + str(IC))"
      ],
      "metadata": {
        "id": "EYLEZzdAfGIc"
      },
      "execution_count": null,
      "outputs": []
    },
    {
      "cell_type": "code",
      "source": [
        "# El número de contagiados de Covid-19 en el país de NuncaLandia se duplica cada día. Hacer un programa que diga el número total de personas que se han contagiado cuando pasen D días a partir de hoy, si el número de contagiados actuales es C.\n",
        "if __name__ == \"__main__\":\n",
        "  d = int(input(\"Ingrese el número de días: \"))\n",
        "  c = int(input(\"Ingrese la cantidad de personas contagiadas actualmente: \"))\n",
        "  TotaldeContagios = (lambda d, c: c*(2**d))(d,c)\n",
        "\n",
        "  print()\n",
        "  print(f\"El total de personas contagiadas en NuncaLandia es de {TotaldeContagios} personas\")"
      ],
      "metadata": {
        "id": "isQZ8fLdgGSM"
      },
      "execution_count": null,
      "outputs": []
    },
    {
      "cell_type": "markdown",
      "source": [
        "PUNTO 2"
      ],
      "metadata": {
        "id": "1_hO2H7oiBPk"
      }
    },
    {
      "cell_type": "code",
      "source": [
        "def Carne(*args) -> float:\n",
        "  TotalCarne = (6*n) + (7*m) + (k)\n",
        "  return TotalCarne\n",
        "\n",
        "if __name__ == \"__main__\":\n",
        "  n = float(input(\"Ingrese la cantidad de gallinas: \"))\n",
        "  m = float(input(\"Ingrese la cantidad de gallos: \"))\n",
        "  k = float(input(\"Ingrese la cantidad de pollos: \"))\n",
        "  TotaldeCarne = Carne(n, m, k)\n",
        "\n",
        "  print()\n",
        "  print(f\"El peso de la carne son {TotaldeCarne}kg\")"
      ],
      "metadata": {
        "id": "wGXkS9RfiC0b"
      },
      "execution_count": null,
      "outputs": []
    },
    {
      "cell_type": "code",
      "source": [
        "def Promedio(*args) -> float:\n",
        "    ResultadoPromedio = (a+b+c+d+e)/5\n",
        "    return ResultadoPromedio\n",
        "\n",
        "if __name__ == \"__main__\":\n",
        "  a = float(input(\"Ingrese un número real: \"))\n",
        "  b = float(input(\"Ingrese un número real: \"))\n",
        "  c = float(input(\"Ingrese un número real: \"))\n",
        "  d = float(input(\"Ingrese un número real: \"))\n",
        "  e = float(input(\"Ingrese un número real: \"))\n",
        "  PromedioFinal = Promedio(a, b, c, d, e)\n",
        "\n",
        "  print()\n",
        "  print(\"El promedio es \" +str(PromedioFinal))"
      ],
      "metadata": {
        "id": "GNQ1zHAMiDQs"
      },
      "execution_count": null,
      "outputs": []
    },
    {
      "cell_type": "code",
      "source": [
        "def RaizCubica(*args) -> float:\n",
        "    ListaE = [*args]\n",
        "    menor1 = min(ListaE)\n",
        "    ResultadoRaizCubica = menor1**(1/3)\n",
        "    return ResultadoRaizCubica\n",
        "\n",
        "if __name__ == \"__main__\":\n",
        "  a = float(input(\"Ingrese un número real: \"))\n",
        "  b = float(input(\"Ingrese un número real: \"))\n",
        "  c = float(input(\"Ingrese un número real: \"))\n",
        "  d = float(input(\"Ingrese un número real: \"))\n",
        "  e = float(input(\"Ingrese un número real: \"))\n",
        "  RaizCubicaFinal = RaizCubica(a, b, c, d, e)\n",
        "\n",
        "  print(\"La raíz cúbica del menor número es: \" +str(RaizCubicaFinal))"
      ],
      "metadata": {
        "id": "6nmWHTlMiDkc"
      },
      "execution_count": null,
      "outputs": []
    },
    {
      "cell_type": "markdown",
      "source": [
        "PUNTO 3"
      ],
      "metadata": {
        "id": "0Uai5tociD-j"
      }
    },
    {
      "cell_type": "code",
      "source": [
        "def Potencia_recursiva(n:int, x:float):\n",
        "  if n == 0:\n",
        "    return 1\n",
        "  elif n == 1:\n",
        "    return x\n",
        "  else:\n",
        "    return x * Potencia_recursiva(n-1, x)\n",
        "\n",
        "if __name__ == \"__main__\":\n",
        "  n = int(input(\"Ingrese un numero natural: \"))\n",
        "  x = float(input(\"Ingrese un numero real: \"))\n",
        "  Resultado = Potencia_recursiva(n, x)\n",
        "  print(f\"{x}^{n}={Resultado}\")"
      ],
      "metadata": {
        "id": "Px40ErcciFij"
      },
      "execution_count": null,
      "outputs": []
    },
    {
      "cell_type": "markdown",
      "source": [
        "PUNTO 4"
      ],
      "metadata": {
        "id": "Iy8etpTtiF_b"
      }
    },
    {
      "cell_type": "code",
      "source": [
        "import time\n",
        "\n",
        "start_time = time.time()\n",
        "def fibo_Recursivo(n:int):\n",
        "  if n <=1:\n",
        "    return 1\n",
        "  else:\n",
        "    return fibo_Recursivo(n-1)+fibo_Recursivo(n-2)\n",
        "\n",
        "if __name__ == \"__main__\":\n",
        "  Serie = int(input(\"Ingresa el numero de la serie de Fibonacci: \"))\n",
        "  ResultadoFibo = fibo_Recursivo(Serie)\n",
        "  print(f\"La serie de Fibonacci hasta {Serie} es {ResultadoFibo}\")\n",
        "end_time = time.time()\n",
        "\n",
        "timer = end_time - start_time\n",
        "print(timer)\n",
        "\n",
        "diftime = 1.5\n",
        "if diftime < timer:\n",
        "  print(f'Diferencia de tiempo significativa a partir de {Serie}')"
      ],
      "metadata": {
        "id": "txoGnEr6iHEX"
      },
      "execution_count": null,
      "outputs": []
    }
  ]
}